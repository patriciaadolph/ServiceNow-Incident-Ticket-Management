{
 "cells": [
  {
   "cell_type": "code",
   "execution_count": null,
   "id": "323dde95",
   "metadata": {},
   "outputs": [
    {
     "name": "stderr",
     "output_type": "stream",
     "text": [
      "C:\\Users\\patri\\AppData\\Local\\Temp/ipykernel_15548/145772867.py:6: DeprecationWarning: executable_path has been deprecated, please pass in a Service object\n",
      "  driver = webdriver.Firefox(executable_path = 'D:\\\\AML 2404\\\\Driver\\\\geckodriver')\n"
     ]
    }
   ],
   "source": [
    "import time\n",
    "from selenium import webdriver\n",
    "\n",
    "def main():\n",
    "    # open URL in browser\n",
    "    driver = webdriver.Firefox(executable_path = 'D:\\\\AML 2404\\\\Driver\\\\geckodriver')\n",
    "    driver.get(\"http://127.0.0.1:5000/\")\n",
    "\n",
    "    # refresh page after 5 seconds\n",
    "    while True:\n",
    "        time.sleep(5)\n",
    "        driver.refresh()\n",
    "\n",
    "main()"
   ]
  },
  {
   "cell_type": "code",
   "execution_count": null,
   "id": "9f7f528f",
   "metadata": {},
   "outputs": [],
   "source": []
  }
 ],
 "metadata": {
  "kernelspec": {
   "display_name": "Python 3 (ipykernel)",
   "language": "python",
   "name": "python3"
  },
  "language_info": {
   "codemirror_mode": {
    "name": "ipython",
    "version": 3
   },
   "file_extension": ".py",
   "mimetype": "text/x-python",
   "name": "python",
   "nbconvert_exporter": "python",
   "pygments_lexer": "ipython3",
   "version": "3.9.5"
  }
 },
 "nbformat": 4,
 "nbformat_minor": 5
}
